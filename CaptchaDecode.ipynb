{
  "nbformat": 4,
  "nbformat_minor": 0,
  "metadata": {
    "colab": {
      "name": "Untitled46.ipynb",
      "provenance": []
    },
    "kernelspec": {
      "name": "python3",
      "display_name": "Python 3"
    }
  },
  "cells": [
    {
      "cell_type": "code",
      "metadata": {
        "id": "TcR3fe_EgIob"
      },
      "source": [
        "!pip install cv2\r\n",
        "!pip install pytesseract\r\n",
        "!pip install Pillow"
      ],
      "execution_count": null,
      "outputs": []
    },
    {
      "cell_type": "code",
      "metadata": {
        "colab": {
          "base_uri": "https://localhost:8080/"
        },
        "id": "oIEkPyJdh1DC",
        "outputId": "a63e1d68-9cac-431c-c26f-01af39e3d6ee"
      },
      "source": [
        "!apt-get install tesseract-ocr tesseract-ocr-eng"
      ],
      "execution_count": 158,
      "outputs": [
        {
          "output_type": "stream",
          "text": [
            "Reading package lists... Done\n",
            "Building dependency tree       \n",
            "Reading state information... Done\n",
            "tesseract-ocr is already the newest version (4.00~git2288-10f4998a-2).\n",
            "tesseract-ocr-eng is already the newest version (4.00~git24-0e00fe6-1.2).\n",
            "0 upgraded, 0 newly installed, 0 to remove and 13 not upgraded.\n"
          ],
          "name": "stdout"
        }
      ]
    },
    {
      "cell_type": "code",
      "metadata": {
        "id": "tciE621Tz1TX"
      },
      "source": [
        "from PIL import Image\r\n",
        "img = Image.open('/content/test.png')\r\n",
        "thresh = 220\r\n",
        "fn = lambda x : 255 if x > thresh else 0\r\n",
        "r = img.convert('L').point(fn, mode='1')\r\n",
        "r.save('foo3.png')"
      ],
      "execution_count": 159,
      "outputs": []
    },
    {
      "cell_type": "code",
      "metadata": {
        "id": "CNMQeKTOgJqu"
      },
      "source": [
        "import cv2\r\n",
        "import pytesseract\r\n",
        "from PIL import Image, ImageEnhance, ImageFilter\r\n",
        "def binarize_image_using_opencv(captcha_path, binary_image_path='/content/test.png'):\r\n",
        "     im_gray = cv2.imread(captcha_path, cv2.IMREAD_GRAYSCALE)\r\n",
        "     (thresh, im_bw) = cv2.threshold(im_gray, 85, 255, cv2.THRESH_BINARY)\r\n",
        "     # although thresh is used below, gonna pick something suitable\r\n",
        "     im_bw = cv2.threshold(im_gray, thresh, 255, cv2.THRESH_BINARY)[1]\r\n",
        "     cv2.imwrite(binary_image_path, im_bw)\r\n",
        "\r\n",
        "     return binary_image_path\r\n",
        "\r\n",
        "def preprocess_image_using_opencv(captcha_path):\r\n",
        "     bin_image_path = binarize_image_using_opencv(captcha_path)\r\n",
        "\r\n",
        "     im_bin = Image.open(bin_image_path)\r\n",
        "     basewidth = 300  # in pixels\r\n",
        "     wpercent = (basewidth/float(im_bin.size[0]))\r\n",
        "     hsize = int((float(im_bin.size[1])*float(wpercent)))\r\n",
        "     big = im_bin.resize((basewidth, hsize), Image.NEAREST)\r\n",
        "\r\n",
        "     # tesseract-ocr only works with TIF so save the bigger image in that format\r\n",
        "     tif_file = \"input-NEAREST.png\"\r\n",
        "     big.save(tif_file)\r\n",
        "\r\n",
        "     return tif_file\r\n",
        "\r\n",
        "def get_captcha_text_from_captcha_image(captcha_path):\r\n",
        "\r\n",
        "     # Preprocess the image befor OCR\r\n",
        "     tif_file = preprocess_image_using_opencv(captcha_path)\r\n",
        "\r\n",
        "\r\n",
        "\r\n",
        "get_captcha_text_from_captcha_image(\"/content/test.png\")\r\n",
        "\r\n"
      ],
      "execution_count": 160,
      "outputs": []
    },
    {
      "cell_type": "code",
      "metadata": {
        "colab": {
          "base_uri": "https://localhost:8080/"
        },
        "id": "25OXPrG_mWKJ",
        "outputId": "ef68f249-5958-4a5f-9307-1b1475e2bc5c"
      },
      "source": [
        "im = Image.open(\"/content/input-NEAREST.png\") # the second one \r\n",
        "im = im.filter(ImageFilter.MedianFilter())\r\n",
        "enhancer = ImageEnhance.Contrast(im)\r\n",
        "im = enhancer.enhance(2)\r\n",
        "im = im.convert('1')\r\n",
        "im.save('captchafinal.png')\r\n",
        "text = pytesseract.image_to_string(Image.open('/content/captchafinal.png'), config=\"-c tessedit_char_whitelist=ABCDEFGHIJKLMNOPQRSTUVWXYZ -psm 6\")\r\n",
        "print(text)"
      ],
      "execution_count": 164,
      "outputs": [
        {
          "output_type": "stream",
          "text": [
            "Y6HO\n",
            "\f\n"
          ],
          "name": "stdout"
        }
      ]
    },
    {
      "cell_type": "code",
      "metadata": {
        "id": "wRmP7jOtg5or"
      },
      "source": [
        "try:\r\n",
        "    from PIL import Image\r\n",
        "except ImportError:\r\n",
        "    import Image\r\n",
        "import pytesseract\r\n",
        "\r\n",
        "def ocr_core(filename):\r\n",
        "    \"\"\"\r\n",
        "    This function will handle the core OCR processing of images.\r\n",
        "    \"\"\"\r\n",
        "    text = pytesseract.image_to_string(Image.open(filename))  # We'll use Pillow's Image class to open the image and pytesseract to detect the string in the image\r\n",
        "    return text\r\n"
      ],
      "execution_count": 165,
      "outputs": []
    },
    {
      "cell_type": "code",
      "metadata": {
        "colab": {
          "base_uri": "https://localhost:8080/"
        },
        "id": "9yIcvawOhfk5",
        "outputId": "ad028516-7205-4cc7-8d8c-fae187e6459a"
      },
      "source": [
        "print(ocr_core('/content/captchafinal.png'))"
      ],
      "execution_count": 166,
      "outputs": [
        {
          "output_type": "stream",
          "text": [
            "Y6HO\n",
            "\f\n"
          ],
          "name": "stdout"
        }
      ]
    }
  ]
}